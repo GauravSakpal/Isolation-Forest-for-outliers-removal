{
 "cells": [
  {
   "cell_type": "code",
   "execution_count": 1,
   "id": "3bc6d057",
   "metadata": {},
   "outputs": [],
   "source": [
    "from sklearn.datasets import load_diabetes\n",
    "from sklearn.ensemble import IsolationForest"
   ]
  },
  {
   "cell_type": "code",
   "execution_count": 30,
   "id": "70bd8a0b",
   "metadata": {},
   "outputs": [
    {
     "data": {
      "text/plain": [
       "(442, 10)"
      ]
     },
     "execution_count": 30,
     "metadata": {},
     "output_type": "execute_result"
    }
   ],
   "source": [
    "import pandas as pd\n",
    "#importing dataset\n",
    "diab = load_diabetes()\n",
    "#defining feature and label\n",
    "X = diab['data']\n",
    "y = diab['target']\n",
    "#creating dataframe\n",
    "df = pd.DataFrame(X, columns=[\"age\",\"sex\",\"bmi\",\"bp\", \"tc\", \"ldl\", \"hdl\",\"tch\", \"ltg\", \"glu\"])\n",
    "#checking shape\n",
    "df.shape"
   ]
  },
  {
   "cell_type": "code",
   "execution_count": 31,
   "id": "a535d3a7",
   "metadata": {},
   "outputs": [
    {
     "data": {
      "text/plain": [
       "(371, 10)"
      ]
     },
     "execution_count": 31,
     "metadata": {},
     "output_type": "execute_result"
    }
   ],
   "source": [
    "#identifying outliers \n",
    "iso = IsolationForest()\n",
    "y_outliers = iso.fit_predict(df)\n",
    "#droping outliers rows\n",
    "for i in range(len(y_outliers)):\n",
    "    if y_outliers[i] == -1:\n",
    "        df.drop(i, inplace = True)\n",
    "#chechink new dataframe shape\n",
    "df.shape"
   ]
  }
 ],
 "metadata": {
  "kernelspec": {
   "display_name": "Python 3 (ipykernel)",
   "language": "python",
   "name": "python3"
  },
  "language_info": {
   "codemirror_mode": {
    "name": "ipython",
    "version": 3
   },
   "file_extension": ".py",
   "mimetype": "text/x-python",
   "name": "python",
   "nbconvert_exporter": "python",
   "pygments_lexer": "ipython3",
   "version": "3.9.12"
  }
 },
 "nbformat": 4,
 "nbformat_minor": 5
}
